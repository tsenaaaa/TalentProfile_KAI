{
 "cells": [
  {
   "cell_type": "markdown",
   "id": "1921c59e",
   "metadata": {},
   "source": [
    "Step 1: Import dan Load Data\n"
   ]
  },
  {
   "cell_type": "code",
   "execution_count": 1,
   "id": "3fda17e5",
   "metadata": {},
   "outputs": [
    {
     "data": {
      "text/html": [
       "<div>\n",
       "<style scoped>\n",
       "    .dataframe tbody tr th:only-of-type {\n",
       "        vertical-align: middle;\n",
       "    }\n",
       "\n",
       "    .dataframe tbody tr th {\n",
       "        vertical-align: top;\n",
       "    }\n",
       "\n",
       "    .dataframe thead th {\n",
       "        text-align: right;\n",
       "    }\n",
       "</style>\n",
       "<table border=\"1\" class=\"dataframe\">\n",
       "  <thead>\n",
       "    <tr style=\"text-align: right;\">\n",
       "      <th></th>\n",
       "      <th>Nama</th>\n",
       "      <th>NIP</th>\n",
       "      <th>Departemen</th>\n",
       "      <th>Jabatan</th>\n",
       "      <th>Tgl_Lahir</th>\n",
       "      <th>Usia</th>\n",
       "      <th>Tahun_2022</th>\n",
       "      <th>Tahun_2023</th>\n",
       "      <th>Tahun_2024</th>\n",
       "      <th>Skor_Asesmen</th>\n",
       "      <th>...</th>\n",
       "      <th>Jabatan_1</th>\n",
       "      <th>Periode_1</th>\n",
       "      <th>Jabatan_2</th>\n",
       "      <th>Periode_2</th>\n",
       "      <th>Jabatan_3</th>\n",
       "      <th>Periode_3</th>\n",
       "      <th>Jabatan_4</th>\n",
       "      <th>Periode_4</th>\n",
       "      <th>Jabatan_5</th>\n",
       "      <th>Periode_5</th>\n",
       "    </tr>\n",
       "  </thead>\n",
       "  <tbody>\n",
       "    <tr>\n",
       "      <th>0</th>\n",
       "      <td>Subandi</td>\n",
       "      <td>197401XXXX</td>\n",
       "      <td>HCM</td>\n",
       "      <td>Deputy Digital Transformation Office 2</td>\n",
       "      <td>1992-06-17</td>\n",
       "      <td>33</td>\n",
       "      <td>98.31</td>\n",
       "      <td>95.41</td>\n",
       "      <td>97.38</td>\n",
       "      <td>98.6</td>\n",
       "      <td>...</td>\n",
       "      <td>Posisi 1 Subandi</td>\n",
       "      <td>01/01/2016 - 31/12/2017</td>\n",
       "      <td>Posisi 2 Subandi</td>\n",
       "      <td>01/01/2017 - 01/01/2019</td>\n",
       "      <td>Posisi 3 Subandi</td>\n",
       "      <td>01/01/2018 - 01/01/2020</td>\n",
       "      <td>Posisi 4 Subandi</td>\n",
       "      <td>01/01/2019 - 31/12/2020</td>\n",
       "      <td>Posisi 5 Subandi</td>\n",
       "      <td>01/01/2020 - 31/12/2021</td>\n",
       "    </tr>\n",
       "    <tr>\n",
       "      <th>1</th>\n",
       "      <td>Lestari</td>\n",
       "      <td>197402XXXX</td>\n",
       "      <td>IT</td>\n",
       "      <td>Manager Infrastruktur TI</td>\n",
       "      <td>1995-12-19</td>\n",
       "      <td>30</td>\n",
       "      <td>101.99</td>\n",
       "      <td>99.34</td>\n",
       "      <td>96.05</td>\n",
       "      <td>90.1</td>\n",
       "      <td>...</td>\n",
       "      <td>Posisi 1 Lestari</td>\n",
       "      <td>01/01/2016 - 31/12/2017</td>\n",
       "      <td>Posisi 2 Lestari</td>\n",
       "      <td>01/01/2017 - 01/01/2019</td>\n",
       "      <td>Posisi 3 Lestari</td>\n",
       "      <td>01/01/2018 - 01/01/2020</td>\n",
       "      <td>Posisi 4 Lestari</td>\n",
       "      <td>01/01/2019 - 31/12/2020</td>\n",
       "      <td>Posisi 5 Lestari</td>\n",
       "      <td>01/01/2020 - 31/12/2021</td>\n",
       "    </tr>\n",
       "    <tr>\n",
       "      <th>2</th>\n",
       "      <td>Andika</td>\n",
       "      <td>197403XXXX</td>\n",
       "      <td>Finance</td>\n",
       "      <td>Kepala Divisi Keuangan</td>\n",
       "      <td>1995-03-12</td>\n",
       "      <td>30</td>\n",
       "      <td>99.69</td>\n",
       "      <td>101.88</td>\n",
       "      <td>98.27</td>\n",
       "      <td>95.0</td>\n",
       "      <td>...</td>\n",
       "      <td>Posisi 1 Andika</td>\n",
       "      <td>01/01/2016 - 31/12/2017</td>\n",
       "      <td>Posisi 2 Andika</td>\n",
       "      <td>01/01/2017 - 01/01/2019</td>\n",
       "      <td>Posisi 3 Andika</td>\n",
       "      <td>01/01/2018 - 01/01/2020</td>\n",
       "      <td>Posisi 4 Andika</td>\n",
       "      <td>01/01/2019 - 31/12/2020</td>\n",
       "      <td>Posisi 5 Andika</td>\n",
       "      <td>01/01/2020 - 31/12/2021</td>\n",
       "    </tr>\n",
       "    <tr>\n",
       "      <th>3</th>\n",
       "      <td>Rina Marlina</td>\n",
       "      <td>197404XXXX</td>\n",
       "      <td>Legal</td>\n",
       "      <td>Senior Legal Officer</td>\n",
       "      <td>1993-11-29</td>\n",
       "      <td>32</td>\n",
       "      <td>102.63</td>\n",
       "      <td>103.34</td>\n",
       "      <td>98.15</td>\n",
       "      <td>96.7</td>\n",
       "      <td>...</td>\n",
       "      <td>Posisi 1 Rina Marlina</td>\n",
       "      <td>01/01/2016 - 31/12/2017</td>\n",
       "      <td>Posisi 2 Rina Marlina</td>\n",
       "      <td>01/01/2017 - 01/01/2019</td>\n",
       "      <td>Posisi 3 Rina Marlina</td>\n",
       "      <td>01/01/2018 - 01/01/2020</td>\n",
       "      <td>Posisi 4 Rina Marlina</td>\n",
       "      <td>01/01/2019 - 31/12/2020</td>\n",
       "      <td>Posisi 5 Rina Marlina</td>\n",
       "      <td>01/01/2020 - 31/12/2021</td>\n",
       "    </tr>\n",
       "    <tr>\n",
       "      <th>4</th>\n",
       "      <td>Budi Santoso</td>\n",
       "      <td>197405XXXX</td>\n",
       "      <td>Operations</td>\n",
       "      <td>Koordinator Operasional</td>\n",
       "      <td>1985-03-18</td>\n",
       "      <td>40</td>\n",
       "      <td>96.60</td>\n",
       "      <td>98.22</td>\n",
       "      <td>99.08</td>\n",
       "      <td>90.2</td>\n",
       "      <td>...</td>\n",
       "      <td>Posisi 1 Budi Santoso</td>\n",
       "      <td>01/01/2016 - 31/12/2017</td>\n",
       "      <td>Posisi 2 Budi Santoso</td>\n",
       "      <td>01/01/2017 - 01/01/2019</td>\n",
       "      <td>Posisi 3 Budi Santoso</td>\n",
       "      <td>01/01/2018 - 01/01/2020</td>\n",
       "      <td>Posisi 4 Budi Santoso</td>\n",
       "      <td>01/01/2019 - 31/12/2020</td>\n",
       "      <td>Posisi 5 Budi Santoso</td>\n",
       "      <td>01/01/2020 - 31/12/2021</td>\n",
       "    </tr>\n",
       "  </tbody>\n",
       "</table>\n",
       "<p>5 rows × 23 columns</p>\n",
       "</div>"
      ],
      "text/plain": [
       "           Nama         NIP  Departemen  \\\n",
       "0       Subandi  197401XXXX         HCM   \n",
       "1       Lestari  197402XXXX          IT   \n",
       "2        Andika  197403XXXX     Finance   \n",
       "3  Rina Marlina  197404XXXX       Legal   \n",
       "4  Budi Santoso  197405XXXX  Operations   \n",
       "\n",
       "                                  Jabatan   Tgl_Lahir  Usia  Tahun_2022  \\\n",
       "0  Deputy Digital Transformation Office 2  1992-06-17    33       98.31   \n",
       "1                Manager Infrastruktur TI  1995-12-19    30      101.99   \n",
       "2                  Kepala Divisi Keuangan  1995-03-12    30       99.69   \n",
       "3                    Senior Legal Officer  1993-11-29    32      102.63   \n",
       "4                 Koordinator Operasional  1985-03-18    40       96.60   \n",
       "\n",
       "   Tahun_2023  Tahun_2024  Skor_Asesmen  ...              Jabatan_1  \\\n",
       "0       95.41       97.38          98.6  ...       Posisi 1 Subandi   \n",
       "1       99.34       96.05          90.1  ...       Posisi 1 Lestari   \n",
       "2      101.88       98.27          95.0  ...        Posisi 1 Andika   \n",
       "3      103.34       98.15          96.7  ...  Posisi 1 Rina Marlina   \n",
       "4       98.22       99.08          90.2  ...  Posisi 1 Budi Santoso   \n",
       "\n",
       "                 Periode_1              Jabatan_2                Periode_2  \\\n",
       "0  01/01/2016 - 31/12/2017       Posisi 2 Subandi  01/01/2017 - 01/01/2019   \n",
       "1  01/01/2016 - 31/12/2017       Posisi 2 Lestari  01/01/2017 - 01/01/2019   \n",
       "2  01/01/2016 - 31/12/2017        Posisi 2 Andika  01/01/2017 - 01/01/2019   \n",
       "3  01/01/2016 - 31/12/2017  Posisi 2 Rina Marlina  01/01/2017 - 01/01/2019   \n",
       "4  01/01/2016 - 31/12/2017  Posisi 2 Budi Santoso  01/01/2017 - 01/01/2019   \n",
       "\n",
       "               Jabatan_3                Periode_3              Jabatan_4  \\\n",
       "0       Posisi 3 Subandi  01/01/2018 - 01/01/2020       Posisi 4 Subandi   \n",
       "1       Posisi 3 Lestari  01/01/2018 - 01/01/2020       Posisi 4 Lestari   \n",
       "2        Posisi 3 Andika  01/01/2018 - 01/01/2020        Posisi 4 Andika   \n",
       "3  Posisi 3 Rina Marlina  01/01/2018 - 01/01/2020  Posisi 4 Rina Marlina   \n",
       "4  Posisi 3 Budi Santoso  01/01/2018 - 01/01/2020  Posisi 4 Budi Santoso   \n",
       "\n",
       "                 Periode_4              Jabatan_5                Periode_5  \n",
       "0  01/01/2019 - 31/12/2020       Posisi 5 Subandi  01/01/2020 - 31/12/2021  \n",
       "1  01/01/2019 - 31/12/2020       Posisi 5 Lestari  01/01/2020 - 31/12/2021  \n",
       "2  01/01/2019 - 31/12/2020        Posisi 5 Andika  01/01/2020 - 31/12/2021  \n",
       "3  01/01/2019 - 31/12/2020  Posisi 5 Rina Marlina  01/01/2020 - 31/12/2021  \n",
       "4  01/01/2019 - 31/12/2020  Posisi 5 Budi Santoso  01/01/2020 - 31/12/2021  \n",
       "\n",
       "[5 rows x 23 columns]"
      ]
     },
     "execution_count": 1,
     "metadata": {},
     "output_type": "execute_result"
    }
   ],
   "source": [
    "import pandas as pd\n",
    "from IPython.display import display, Markdown\n",
    "import ipywidgets as widgets\n",
    "\n",
    "# Load CSV\n",
    "df = pd.read_csv(\"staff_profile_multi.csv\")\n",
    "df.head()\n"
   ]
  },
  {
   "cell_type": "markdown",
   "id": "2fdd3811",
   "metadata": {},
   "source": [
    "Step 2: Dropdown Nama Pegawai"
   ]
  },
  {
   "cell_type": "code",
   "execution_count": null,
   "id": "146e749e",
   "metadata": {},
   "outputs": [
    {
     "data": {
      "application/vnd.jupyter.widget-view+json": {
       "model_id": "b935e632664149baa88d66c2310f4d08",
       "version_major": 2,
       "version_minor": 0
      },
      "text/plain": [
       "Dropdown(description='Nama Pegawai:', options=('Subandi', 'Lestari', 'Andika', 'Rina Marlina', 'Budi Santoso')…"
      ]
     },
     "metadata": {},
     "output_type": "display_data"
    }
   ],
   "source": [
    "# Widget pemilih nama\n",
    "nama_dropdown = widgets.Dropdown(options=df[\"Nama\"].unique(), description='Nama Pegawai:')\n",
    "display(nama_dropdown)"
   ]
  },
  {
   "cell_type": "markdown",
   "id": "27f03928",
   "metadata": {},
   "source": [
    "Step 3: Fungsi Tampilkan Profil"
   ]
  },
  {
   "cell_type": "code",
   "execution_count": 3,
   "id": "409e1cf5",
   "metadata": {},
   "outputs": [],
   "source": [
    "def tampilkan_profil(nama):\n",
    "    data = df[df[\"Nama\"] == nama].iloc[0]\n",
    "\n",
    "    display(Markdown(f\"## 📋 Profil Ringkas Pegawai: **{data['Nama']}**\"))\n",
    "    display(Markdown(f\"**NIP**: {data['NIP']}  \\n\"\n",
    "                     f\"**Departemen**: {data['Departemen']}  \\n\"\n",
    "                     f\"**Jabatan Saat Ini**: {data['Jabatan']}  \\n\"\n",
    "                     f\"**Tanggal Lahir**: {data['Tgl_Lahir']} ({data['Usia']} tahun)\"))\n",
    "\n",
    "    display(Markdown(\"### 📈 Nilai Kinerja\"))\n",
    "    display(pd.DataFrame({\n",
    "        \"Tahun\": [\"2022\", \"2023\", \"2024\"],\n",
    "        \"Nilai Kinerja\": [data[\"Tahun_2022\"], data[\"Tahun_2023\"], data[\"Tahun_2024\"]]\n",
    "    }))\n",
    "\n",
    "    display(Markdown(\"### 🧠 Kompetensi\"))\n",
    "    display(Markdown(f\"- Skor Asesmen BUMN: **{data['Skor_Asesmen']}**  \\n\"\n",
    "                     f\"- Skor Multirater: **{data['Skor_Multirater']}**\"))\n",
    "\n",
    "    display(Markdown(\"### 🎓 Pendidikan & Gelar\"))\n",
    "    display(Markdown(f\"- **Gelar**: {data['Gelar']}  \\n\"\n",
    "                     f\"- **Riwayat Pendidikan**: {data['Pendidikan']}\"))\n",
    "\n",
    "    display(Markdown(\"### 💼 Riwayat Jabatan\"))\n",
    "    for i in range(1, 6):\n",
    "        jab = data[f\"Jabatan_{i}\"]\n",
    "        per = data[f\"Periode_{i}\"]\n",
    "        display(Markdown(f\"**{i}. {jab}**  \\n🕒 _{per}_\"))\n",
    "\n",
    "    display(Markdown(\"---\"))\n"
   ]
  },
  {
   "cell_type": "markdown",
   "id": "89ee29e3",
   "metadata": {},
   "source": [
    "Step 4: Interaksi Nama Dropdown"
   ]
  },
  {
   "cell_type": "code",
   "execution_count": null,
   "id": "8701a277",
   "metadata": {},
   "outputs": [
    {
     "data": {
      "application/vnd.jupyter.widget-view+json": {
       "model_id": "8950e496061249d985a82b499c580056",
       "version_major": 2,
       "version_minor": 0
      },
      "text/plain": [
       "interactive(children=(Dropdown(description='Nama Pegawai:', options=('Subandi', 'Lestari', 'Andika', 'Rina Mar…"
      ]
     },
     "metadata": {},
     "output_type": "display_data"
    }
   ],
   "source": [
    "widgets.interact(tampilkan_profil, nama=nama_dropdown);"
   ]
  },
  {
   "cell_type": "code",
   "execution_count": 34,
   "id": "69544325",
   "metadata": {},
   "outputs": [
    {
     "data": {
      "text/markdown": [
       "\n",
       "## 🧠 Keahlian Utama\n",
       "\n",
       "- Excel, Leadership, Python\n"
      ],
      "text/plain": [
       "<IPython.core.display.Markdown object>"
      ]
     },
     "execution_count": 34,
     "metadata": {},
     "output_type": "execute_result"
    }
   ],
   "source": [
    "df_emp_skills = df_skills[df_skills['employee_id'] == employee_id]\n",
    "top_skills = df_emp_skills.sort_values(by='score', ascending=False).head(3)['skill'].tolist()\n",
    "\n",
    "Markdown(f\"\"\"\n",
    "## 🧠 Keahlian Utama\n",
    "\n",
    "- {', '.join(top_skills)}\n",
    "\"\"\")\n"
   ]
  },
  {
   "cell_type": "code",
   "execution_count": 35,
   "id": "6933fc4b",
   "metadata": {},
   "outputs": [
    {
     "data": {
      "text/markdown": [
       "- **Project Management** (2024-08-10)"
      ],
      "text/plain": [
       "<IPython.core.display.Markdown object>"
      ]
     },
     "metadata": {},
     "output_type": "display_data"
    },
    {
     "data": {
      "text/markdown": [
       "- **Leadership 101** (2024-06-28)"
      ],
      "text/plain": [
       "<IPython.core.display.Markdown object>"
      ]
     },
     "metadata": {},
     "output_type": "display_data"
    },
    {
     "data": {
      "text/markdown": [
       "- **Leadership 101** (2023-11-22)"
      ],
      "text/plain": [
       "<IPython.core.display.Markdown object>"
      ]
     },
     "metadata": {},
     "output_type": "display_data"
    }
   ],
   "source": [
    "df_emp_training = df_training[df_training['employee_id'] == employee_id]\n",
    "recent_training = df_emp_training.sort_values(by='date', ascending=False).head(3)\n",
    "\n",
    "Markdown(\"## 🏅 Pelatihan Terakhir\")\n",
    "\n",
    "for _, row in recent_training.iterrows():\n",
    "    display(Markdown(f\"- **{row['training_name']}** ({row['date']})\"))\n"
   ]
  },
  {
   "cell_type": "code",
   "execution_count": 36,
   "id": "2562ffd8",
   "metadata": {},
   "outputs": [
    {
     "data": {
      "text/markdown": [
       "\n",
       "# 📄 CV Kinerja Karyawan: Norma Fisher\n",
       "\n",
       "## 👤 Identitas\n",
       "- **Jabatan**: HR Specialist\n",
       "- **Divisi**: Operations\n",
       "- **Tanggal Masuk**: 2021-08-09\n",
       "\n",
       "## 📊 Skor Kinerja\n",
       "- Rata-rata Skor: 3.88\n",
       "- Jumlah Penilaian: 6\n",
       "\n",
       "## 🏗️ Proyek\n",
       "- Total Proyek: 6\n",
       "- Drive Wireless Web Services\n",
       "- Implement Rich Supply-Chains\n",
       "- Drive World-Class Partnerships\n",
       "- Redefine Magnetic Action-Items\n",
       "- Orchestrate Customized Infrastructures\n",
       "- Harness Holistic Platforms\n",
       "\n",
       "\n",
       "## 🧠 Keahlian Unggulan\n",
       "- Excel, Leadership, Python\n",
       "\n",
       "## 🏅 Pelatihan Terbaru\n",
       "- **Project Management** (2024-08-10)\n",
       "- **Leadership 101** (2024-06-28)\n",
       "- **Leadership 101** (2023-11-22)\n",
       "\n"
      ],
      "text/plain": [
       "<IPython.core.display.Markdown object>"
      ]
     },
     "execution_count": 36,
     "metadata": {},
     "output_type": "execute_result"
    }
   ],
   "source": [
    "def generate_cv(emp, avg_score, projects, top_skills, recent_training):\n",
    "    project_list = ''.join(f\"- {p}\\n\" for p in projects)\n",
    "    training_list = ''.join(f\"- **{t['training_name']}** ({t['date']})\\n\" for _, t in recent_training.iterrows())\n",
    "\n",
    "    return Markdown(f\"\"\"\n",
    "# 📄 CV Kinerja Karyawan: {emp['name']}\n",
    "\n",
    "## 👤 Identitas\n",
    "- **Jabatan**: {emp['position']}\n",
    "- **Divisi**: {emp['division']}\n",
    "- **Tanggal Masuk**: {emp['join_date']}\n",
    "\n",
    "## 📊 Skor Kinerja\n",
    "- Rata-rata Skor: {avg_score:.2f}\n",
    "- Jumlah Penilaian: {len(df_emp_perf)}\n",
    "\n",
    "## 🏗️ Proyek\n",
    "- Total Proyek: {len(projects)}\n",
    "{project_list}\n",
    "\n",
    "## 🧠 Keahlian Unggulan\n",
    "- {', '.join(top_skills)}\n",
    "\n",
    "## 🏅 Pelatihan Terbaru\n",
    "{training_list}\n",
    "\"\"\")\n",
    "\n",
    "generate_cv(emp, avg_score, projects, top_skills, recent_training)\n"
   ]
  },
  {
   "cell_type": "code",
   "execution_count": 37,
   "id": "f6847352",
   "metadata": {},
   "outputs": [
    {
     "name": "stderr",
     "output_type": "stream",
     "text": [
      "c:\\Users\\widar\\AppData\\Local\\Programs\\Python\\Python313\\Lib\\site-packages\\dash\\dash.py:634: UserWarning:\n",
      "\n",
      "JupyterDash is deprecated, use Dash instead.\n",
      "See https://dash.plotly.com/dash-in-jupyter for more details.\n",
      "\n"
     ]
    }
   ],
   "source": [
    "from jupyter_dash import JupyterDash\n",
    "from dash import Dash, dcc, html, Input, Output\n",
    "import dash_bootstrap_components as dbc\n",
    "import pandas as pd\n",
    "import plotly.express as px\n",
    "\n",
    "# Load data CSV\n",
    "df_employee = pd.read_csv('employee.csv')\n",
    "df_performance = pd.read_csv('performance_logs.csv')\n",
    "df_training = pd.read_csv('training_records.csv')\n",
    "df_skills = pd.read_csv('skills_matrix.csv')\n",
    "\n",
    "# Build app\n",
    "app = JupyterDash(__name__, external_stylesheets=[dbc.themes.FLATLY])\n",
    "\n",
    "app.layout = dbc.Container([\n",
    "    html.H1(\"📄 Dashboard CV Kinerja Karyawan\", className=\"my-4\"),\n",
    "\n",
    "    dcc.Dropdown(\n",
    "        id='employee-select',\n",
    "        options=[{'label': row['name'], 'value': row['employee_id']} for _, row in df_employee.iterrows()],\n",
    "        value=df_employee.iloc[0]['employee_id'],\n",
    "        className=\"mb-4\"\n",
    "    ),\n",
    "\n",
    "    dbc.Row([\n",
    "        dbc.Col(dbc.Card(id='card-identity', body=True, color=\"light\"), md=6),\n",
    "        dbc.Col(dbc.Card(id='card-score', body=True, color=\"primary\", inverse=True), md=6),\n",
    "    ], className=\"mb-4\"),\n",
    "\n",
    "    dbc.Row([\n",
    "        dbc.Col(dcc.Graph(id='score-trend'), md=8),\n",
    "        dbc.Col([\n",
    "            html.H5(\"🧠 Keahlian Utama\"),\n",
    "            html.Ul(id='skill-list')\n",
    "        ], md=4)\n",
    "    ]),\n",
    "\n",
    "    dbc.Row([\n",
    "        dbc.Col([\n",
    "            html.H5(\"📋 Proyek Terakhir\"),\n",
    "            html.Div(id='project-table')\n",
    "        ], md=6),\n",
    "\n",
    "        dbc.Col([\n",
    "            html.H5(\"🏅 Pelatihan Terakhir\"),\n",
    "            html.Div(id='training-table')\n",
    "        ], md=6),\n",
    "    ])\n",
    "], fluid=True)\n"
   ]
  },
  {
   "cell_type": "code",
   "execution_count": 42,
   "id": "9bf9a62d",
   "metadata": {},
   "outputs": [],
   "source": [
    "app.layout = dbc.Container([\n",
    "    html.H1(\"Tes Layout - Dashboard CV Karyawan\"),\n",
    "    html.P(\"Jika kamu bisa lihat ini, layout aman.\"),\n",
    "], fluid=True)\n"
   ]
  },
  {
   "cell_type": "code",
   "execution_count": 43,
   "id": "5463fd2c",
   "metadata": {},
   "outputs": [],
   "source": [
    "from dash import Dash\n",
    "app = Dash(__name__, external_stylesheets=[dbc.themes.FLATLY])"
   ]
  },
  {
   "cell_type": "code",
   "execution_count": 44,
   "id": "b1ed8987",
   "metadata": {},
   "outputs": [
    {
     "name": "stdout",
     "output_type": "stream",
     "text": [
      "---------------------------------------------------------------------------\n",
      "NoLayoutException                         Traceback (most recent call last)\n",
      "NoLayoutException: The layout was `None` at the time that `run` was called.\n",
      "Make sure to set the `layout` attribute of your application\n",
      "before running the server.\n",
      "\n"
     ]
    },
    {
     "data": {
      "text/html": [
       "\n",
       "        <iframe\n",
       "            width=\"100%\"\n",
       "            height=\"650\"\n",
       "            src=\"http://127.0.0.1:8050/\"\n",
       "            frameborder=\"0\"\n",
       "            allowfullscreen\n",
       "            \n",
       "        ></iframe>\n",
       "        "
      ],
      "text/plain": [
       "<IPython.lib.display.IFrame at 0x1f076fbdd10>"
      ]
     },
     "metadata": {},
     "output_type": "display_data"
    }
   ],
   "source": [
    "app.run(debug=True, use_reloader=False)"
   ]
  }
 ],
 "metadata": {
  "kernelspec": {
   "display_name": "Python 3",
   "language": "python",
   "name": "python3"
  },
  "language_info": {
   "codemirror_mode": {
    "name": "ipython",
    "version": 3
   },
   "file_extension": ".py",
   "mimetype": "text/x-python",
   "name": "python",
   "nbconvert_exporter": "python",
   "pygments_lexer": "ipython3",
   "version": "3.13.0"
  }
 },
 "nbformat": 4,
 "nbformat_minor": 5
}
